{
 "cells": [
  {
   "cell_type": "markdown",
   "metadata": {},
   "source": [
    "# Introduction to Pandas Lab\n",
    "\n",
    "Complete the following set of exercises to solidify your knowledge of Pandas fundamentals."
   ]
  },
  {
   "cell_type": "markdown",
   "metadata": {},
   "source": [
    "### 1. Import Numpy and Pandas and alias them to `np` and `pd` respectively."
   ]
  },
  {
   "cell_type": "code",
   "execution_count": 1,
   "metadata": {},
   "outputs": [],
   "source": [
    "import pandas as pd\n",
    "import numpy as np"
   ]
  },
  {
   "cell_type": "markdown",
   "metadata": {},
   "source": [
    "### 2. Create a Pandas Series containing the elements of the list below."
   ]
  },
  {
   "cell_type": "code",
   "execution_count": 2,
   "metadata": {},
   "outputs": [],
   "source": [
    "lst = [5.7, 75.2, 74.4, 84.0, 66.5, 66.3, 55.8, 75.7, 29.1, 43.7]"
   ]
  },
  {
   "cell_type": "code",
   "execution_count": 3,
   "metadata": {},
   "outputs": [
    {
     "name": "stdout",
     "output_type": "stream",
     "text": [
      "74.4\n"
     ]
    }
   ],
   "source": [
    "# your code here\n",
    "print([5.7, 75.2, 74.4, 84.0, 66.5, 66.3, 55.8, 75.7, 29.1, 43.7][2])"
   ]
  },
  {
   "cell_type": "markdown",
   "metadata": {},
   "source": [
    "### 3. Use indexing to return the third value in the Series above.\n",
    "\n",
    "*Hint: Remember that indexing begins at 0.*"
   ]
  },
  {
   "cell_type": "code",
   "execution_count": 4,
   "metadata": {},
   "outputs": [
    {
     "name": "stdout",
     "output_type": "stream",
     "text": [
      "74.4\n",
      "74.4\n"
     ]
    }
   ],
   "source": [
    "# your code here\n",
    "import pandas as pd\n",
    "\n",
    "# Creating a pandas Series from the list\n",
    "s = pd.Series([5.7, 75.2, 74.4, 84.0, 66.5, 66.3, 55.8, 75.7, 29.1, 43.7])\n",
    "\n",
    "# Accessing the third value using indexing\n",
    "third_value = s[2]\n",
    "print(third_value)\n",
    "\n",
    "import pandas as pd; print(pd.Series([5.7, 75.2, 74.4, 84.0, 66.5, 66.3, 55.8, 75.7, 29.1, 43.7])[2])\n"
   ]
  },
  {
   "cell_type": "markdown",
   "metadata": {},
   "source": [
    "### 4. Create a Pandas DataFrame from the list of lists below. Each sublist should be represented as a row."
   ]
  },
  {
   "cell_type": "code",
   "execution_count": 5,
   "metadata": {},
   "outputs": [],
   "source": [
    "b = [[53.1, 95.0, 67.5, 35.0, 78.4],\n",
    "     [61.3, 40.8, 30.8, 37.8, 87.6],\n",
    "     [20.6, 73.2, 44.2, 14.6, 91.8],\n",
    "     [57.4, 0.1, 96.1, 4.2, 69.5],\n",
    "     [83.6, 20.5, 85.4, 22.8, 35.9],\n",
    "     [49.0, 69.0, 0.1, 31.8, 89.1],\n",
    "     [23.3, 40.7, 95.0, 83.8, 26.9],\n",
    "     [27.6, 26.4, 53.8, 88.8, 68.5],\n",
    "     [96.6, 96.4, 53.4, 72.4, 50.1],\n",
    "     [73.7, 39.0, 43.2, 81.6, 34.7]]"
   ]
  },
  {
   "cell_type": "code",
   "execution_count": 6,
   "metadata": {},
   "outputs": [
    {
     "name": "stdout",
     "output_type": "stream",
     "text": [
      "      0     1     2     3     4\n",
      "0  53.1  95.0  67.5  35.0  78.4\n",
      "1  61.3  40.8  30.8  37.8  87.6\n",
      "2  20.6  73.2  44.2  14.6  91.8\n",
      "3  57.4   0.1  96.1   4.2  69.5\n",
      "4  83.6  20.5  85.4  22.8  35.9\n",
      "5  49.0  69.0   0.1  31.8  89.1\n",
      "6  23.3  40.7  95.0  83.8  26.9\n",
      "7  27.6  26.4  53.8  88.8  68.5\n",
      "8  96.6  96.4  53.4  72.4  50.1\n",
      "9  73.7  39.0  43.2  81.6  34.7\n"
     ]
    }
   ],
   "source": [
    "# your code here\n",
    "import pandas as pd\n",
    "\n",
    "# List of lists\n",
    "b = [\n",
    "    [53.1, 95.0, 67.5, 35.0, 78.4],\n",
    "    [61.3, 40.8, 30.8, 37.8, 87.6],\n",
    "    [20.6, 73.2, 44.2, 14.6, 91.8],\n",
    "    [57.4, 0.1, 96.1, 4.2, 69.5],\n",
    "    [83.6, 20.5, 85.4, 22.8, 35.9],\n",
    "    [49.0, 69.0, 0.1, 31.8, 89.1],\n",
    "    [23.3, 40.7, 95.0, 83.8, 26.9],\n",
    "    [27.6, 26.4, 53.8, 88.8, 68.5],\n",
    "    [96.6, 96.4, 53.4, 72.4, 50.1],\n",
    "    [73.7, 39.0, 43.2, 81.6, 34.7]\n",
    "]\n",
    "\n",
    "# Create a DataFrame\n",
    "df = pd.DataFrame(b)\n",
    "\n",
    "# Display the DataFrame\n",
    "print(df)"
   ]
  },
  {
   "cell_type": "markdown",
   "metadata": {},
   "source": [
    "### 5. Rename the data frame columns based on the names in the list below."
   ]
  },
  {
   "cell_type": "code",
   "execution_count": 7,
   "metadata": {},
   "outputs": [],
   "source": [
    "b = [[53.1, 95.0, 67.5, 35.0, 78.4],\n",
    "     [61.3, 40.8, 30.8, 37.8, 87.6],\n",
    "     [20.6, 73.2, 44.2, 14.6, 91.8],\n",
    "     [57.4, 0.1, 96.1, 4.2, 69.5],\n",
    "     [83.6, 20.5, 85.4, 22.8, 35.9],\n",
    "     [49.0, 69.0, 0.1, 31.8, 89.1],\n",
    "     [23.3, 40.7, 95.0, 83.8, 26.9],\n",
    "     [27.6, 26.4, 53.8, 88.8, 68.5],\n",
    "     [96.6, 96.4, 53.4, 72.4, 50.1],\n",
    "     [73.7, 39.0, 43.2, 81.6, 34.7]]"
   ]
  },
  {
   "cell_type": "code",
   "execution_count": 7,
   "metadata": {},
   "outputs": [
    {
     "name": "stdout",
     "output_type": "stream",
     "text": [
      "      A     B     C     D     E\n",
      "0  53.1  95.0  67.5  35.0  78.4\n",
      "1  61.3  40.8  30.8  37.8  87.6\n",
      "2  20.6  73.2  44.2  14.6  91.8\n",
      "3  57.4   0.1  96.1   4.2  69.5\n",
      "4  83.6  20.5  85.4  22.8  35.9\n",
      "5  49.0  69.0   0.1  31.8  89.1\n",
      "6  23.3  40.7  95.0  83.8  26.9\n",
      "7  27.6  26.4  53.8  88.8  68.5\n",
      "8  96.6  96.4  53.4  72.4  50.1\n",
      "9  73.7  39.0  43.2  81.6  34.7\n",
      "      A     B     C     D     E\n",
      "0  53.1  95.0  67.5  35.0  78.4\n",
      "1  61.3  40.8  30.8  37.8  87.6\n",
      "2  20.6  73.2  44.2  14.6  91.8\n",
      "3  57.4   0.1  96.1   4.2  69.5\n",
      "4  83.6  20.5  85.4  22.8  35.9\n",
      "5  49.0  69.0   0.1  31.8  89.1\n",
      "6  23.3  40.7  95.0  83.8  26.9\n",
      "7  27.6  26.4  53.8  88.8  68.5\n",
      "8  96.6  96.4  53.4  72.4  50.1\n",
      "9  73.7  39.0  43.2  81.6  34.7\n"
     ]
    }
   ],
   "source": [
    "# your code here\n",
    "import pandas as pd\n",
    "\n",
    "# List of lists\n",
    "b = [\n",
    "    [53.1, 95.0, 67.5, 35.0, 78.4],\n",
    "    [61.3, 40.8, 30.8, 37.8, 87.6],\n",
    "    [20.6, 73.2, 44.2, 14.6, 91.8],\n",
    "    [57.4, 0.1, 96.1, 4.2, 69.5],\n",
    "    [83.6, 20.5, 85.4, 22.8, 35.9],\n",
    "    [49.0, 69.0, 0.1, 31.8, 89.1],\n",
    "    [23.3, 40.7, 95.0, 83.8, 26.9],\n",
    "    [27.6, 26.4, 53.8, 88.8, 68.5],\n",
    "    [96.6, 96.4, 53.4, 72.4, 50.1],\n",
    "    [73.7, 39.0, 43.2, 81.6, 34.7]\n",
    "]\n",
    "\n",
    "# Create the DataFrame\n",
    "df = pd.DataFrame(b)\n",
    "\n",
    "# List of new column names\n",
    "new_column_names = ['A', 'B', 'C', 'D', 'E']\n",
    "\n",
    "# Rename the DataFrame columns\n",
    "df.columns = new_column_names\n",
    "\n",
    "# Display the renamed DataFrame\n",
    "print(df)\n",
    "\n",
    "import pandas as pd\n",
    "\n",
    "# List of lists\n",
    "b = [\n",
    "    [53.1, 95.0, 67.5, 35.0, 78.4],\n",
    "    [61.3, 40.8, 30.8, 37.8, 87.6],\n",
    "    [20.6, 73.2, 44.2, 14.6, 91.8],\n",
    "    [57.4, 0.1, 96.1, 4.2, 69.5],\n",
    "    [83.6, 20.5, 85.4, 22.8, 35.9],\n",
    "    [49.0, 69.0, 0.1, 31.8, 89.1],\n",
    "    [23.3, 40.7, 95.0, 83.8, 26.9],\n",
    "    [27.6, 26.4, 53.8, 88.8, 68.5],\n",
    "    [96.6, 96.4, 53.4, 72.4, 50.1],\n",
    "    [73.7, 39.0, 43.2, 81.6, 34.7]\n",
    "]\n",
    "\n",
    "# Create the DataFrame\n",
    "df = pd.DataFrame(b)\n",
    "\n",
    "# List of new column names\n",
    "new_column_names = ['A', 'B', 'C', 'D', 'E']\n",
    "\n",
    "# Rename the DataFrame columns\n",
    "df.columns = new_column_names\n",
    "\n",
    "# Display the renamed DataFrame\n",
    "print(df)\n",
    "\n",
    "\n",
    "\n",
    "\n",
    "\n",
    "\n",
    "\n"
   ]
  },
  {
   "cell_type": "markdown",
   "metadata": {},
   "source": [
    "### 6. Create a subset of this data frame that contains only the Score 1, 3, and 5 columns."
   ]
  },
  {
   "cell_type": "code",
   "execution_count": 9,
   "metadata": {},
   "outputs": [],
   "source": [
    "# your code here\n",
    "import pandas as pd\n",
    "\n",
    "# If the DataFrame hasn't been created yet, do so:\n",
    "b = [\n",
    "    [53.1, 95.0, 67.5, 35.0, 78.4],\n",
    "    [61.3, 40.8, 30.8, 37.8, 87.6],\n",
    "    [20.6, 73.2, 44.2, 14.6, 91.8],\n",
    "    [57.4, 0.1, 96.1, 4.2, 69.5],\n",
    "    [83.6, 20.5, 85.4, 22.8, 35.9],\n",
    "    [49.0, 69.0, 0.1, 31.8, 89.1],\n",
    "    [23.3, 40.7, 95.0, 83.8, 26.9],\n",
    "    [27.6, 26.4, 53.8, 88.8, 68.5],\n",
    "    [96.6, 96.4, 53.4, 72.4, 50.1],\n",
    "    [73.7, 39.0, 43.2, 81.6, 34.7]\n",
    "]\n",
    "df = pd.DataFrame(b)\n",
    "\n",
    "# Rename the DataFrame columns\n",
    "df.columns = ['A', 'B', 'C', 'D', 'E']\n",
    "\n",
    "# Create a subset of the DataFrame with only Score 1 (A), Score 3 (C), and Score 5 (E)\n",
    "subset_df = df[['A', 'C', 'E']]\n",
    "\n"
   ]
  },
  {
   "cell_type": "markdown",
   "metadata": {},
   "source": [
    "### 7. From the original data frame, calculate the average Score_3 value."
   ]
  },
  {
   "cell_type": "code",
   "execution_count": 10,
   "metadata": {},
   "outputs": [
    {
     "name": "stdout",
     "output_type": "stream",
     "text": [
      "The average Score 3 value is: 56.95000000000001\n"
     ]
    }
   ],
   "source": [
    "# your code here\n",
    "import pandas as pd\n",
    "\n",
    "# Create the DataFrame (if it hasn't been created yet)\n",
    "b = [\n",
    "    [53.1, 95.0, 67.5, 35.0, 78.4],\n",
    "    [61.3, 40.8, 30.8, 37.8, 87.6],\n",
    "    [20.6, 73.2, 44.2, 14.6, 91.8],\n",
    "    [57.4, 0.1, 96.1, 4.2, 69.5],\n",
    "    [83.6, 20.5, 85.4, 22.8, 35.9],\n",
    "    [49.0, 69.0, 0.1, 31.8, 89.1],\n",
    "    [23.3, 40.7, 95.0, 83.8, 26.9],\n",
    "    [27.6, 26.4, 53.8, 88.8, 68.5],\n",
    "    [96.6, 96.4, 53.4, 72.4, 50.1],\n",
    "    [73.7, 39.0, 43.2, 81.6, 34.7]\n",
    "]\n",
    "df = pd.DataFrame(b)\n",
    "\n",
    "# Rename the DataFrame columns\n",
    "df.columns = ['A', 'B', 'C', 'D', 'E']\n",
    "\n",
    "# Calculate the average of Score 3 (Column 'C')\n",
    "average_score_3 = df['C'].mean()\n",
    "\n",
    "# Display the average Score 3 value\n",
    "print(f\"The average Score 3 value is: {average_score_3}\")\n"
   ]
  },
  {
   "cell_type": "markdown",
   "metadata": {},
   "source": [
    "### 8. From the original data frame, calculate the maximum Score_4 value."
   ]
  },
  {
   "cell_type": "code",
   "execution_count": 11,
   "metadata": {},
   "outputs": [
    {
     "name": "stdout",
     "output_type": "stream",
     "text": [
      "The maximum Score 4 value is: 88.8\n"
     ]
    }
   ],
   "source": [
    "# your code here\n",
    "import pandas as pd\n",
    "\n",
    "# Create the DataFrame (if it hasn't been created yet)\n",
    "b = [\n",
    "    [53.1, 95.0, 67.5, 35.0, 78.4],\n",
    "    [61.3, 40.8, 30.8, 37.8, 87.6],\n",
    "    [20.6, 73.2, 44.2, 14.6, 91.8],\n",
    "    [57.4, 0.1, 96.1, 4.2, 69.5],\n",
    "    [83.6, 20.5, 85.4, 22.8, 35.9],\n",
    "    [49.0, 69.0, 0.1, 31.8, 89.1],\n",
    "    [23.3, 40.7, 95.0, 83.8, 26.9],\n",
    "    [27.6, 26.4, 53.8, 88.8, 68.5],\n",
    "    [96.6, 96.4, 53.4, 72.4, 50.1],\n",
    "    [73.7, 39.0, 43.2, 81.6, 34.7]\n",
    "]\n",
    "df = pd.DataFrame(b)\n",
    "\n",
    "# Rename the DataFrame columns\n",
    "df.columns = ['A', 'B', 'C', 'D', 'E']\n",
    "\n",
    "# Calculate the maximum of Score 4 (Column 'D')\n",
    "maximum_score_4 = df['D'].max()\n",
    "\n",
    "# Display the maximum Score 4 value\n",
    "print(f\"The maximum Score 4 value is: {maximum_score_4}\")"
   ]
  },
  {
   "cell_type": "markdown",
   "metadata": {},
   "source": [
    "### 9. From the original data frame, calculate the median Score 2 value."
   ]
  },
  {
   "cell_type": "code",
   "execution_count": 12,
   "metadata": {},
   "outputs": [
    {
     "name": "stdout",
     "output_type": "stream",
     "text": [
      "The median Score 2 value is: 40.75\n"
     ]
    }
   ],
   "source": [
    "# your code here\n",
    "import pandas as pd\n",
    "\n",
    "# Create the DataFrame (if it hasn't been created yet)\n",
    "b = [\n",
    "    [53.1, 95.0, 67.5, 35.0, 78.4],\n",
    "    [61.3, 40.8, 30.8, 37.8, 87.6],\n",
    "    [20.6, 73.2, 44.2, 14.6, 91.8],\n",
    "    [57.4, 0.1, 96.1, 4.2, 69.5],\n",
    "    [83.6, 20.5, 85.4, 22.8, 35.9],\n",
    "    [49.0, 69.0, 0.1, 31.8, 89.1],\n",
    "    [23.3, 40.7, 95.0, 83.8, 26.9],\n",
    "    [27.6, 26.4, 53.8, 88.8, 68.5],\n",
    "    [96.6, 96.4, 53.4, 72.4, 50.1],\n",
    "    [73.7, 39.0, 43.2, 81.6, 34.7]\n",
    "]\n",
    "df = pd.DataFrame(b)\n",
    "\n",
    "# Rename the DataFrame columns\n",
    "df.columns = ['A', 'B', 'C', 'D', 'E']\n",
    "\n",
    "# Calculate the median of Score 2 (Column 'B')\n",
    "median_score_2 = df['B'].median()\n",
    "\n",
    "# Display the median Score 2 value\n",
    "print(f\"The median Score 2 value is: {median_score_2}\")"
   ]
  },
  {
   "cell_type": "markdown",
   "metadata": {},
   "source": [
    "### 10. Create a Pandas DataFrame from the dictionary of product orders below."
   ]
  },
  {
   "cell_type": "code",
   "execution_count": 13,
   "metadata": {},
   "outputs": [],
   "source": [
    "orders = {'Description': ['LUNCH BAG APPLE DESIGN',\n",
    "  'SET OF 60 VINTAGE LEAF CAKE CASES ',\n",
    "  'RIBBON REEL STRIPES DESIGN ',\n",
    "  'WORLD WAR 2 GLIDERS ASSTD DESIGNS',\n",
    "  'PLAYING CARDS JUBILEE UNION JACK',\n",
    "  'POPCORN HOLDER',\n",
    "  'BOX OF VINTAGE ALPHABET BLOCKS',\n",
    "  'PARTY BUNTING',\n",
    "  'JAZZ HEARTS ADDRESS BOOK',\n",
    "  'SET OF 4 SANTA PLACE SETTINGS'],\n",
    " 'Quantity': [1, 24, 1, 2880, 2, 7, 1, 4, 10, 48],\n",
    " 'UnitPrice': [1.65, 0.55, 1.65, 0.18, 1.25, 0.85, 11.95, 4.95, 0.19, 1.25],\n",
    " 'Revenue': [1.65, 13.2, 1.65, 518.4, 2.5, 5.95, 11.95, 19.8, 1.9, 60.0]}"
   ]
  },
  {
   "cell_type": "code",
   "execution_count": 16,
   "metadata": {},
   "outputs": [
    {
     "name": "stdout",
     "output_type": "stream",
     "text": [
      "   OrderID      Product  Quantity  Price\n",
      "0        1       Widget         5  19.99\n",
      "1        2       Gadget        10  24.99\n",
      "2        3       Doodad         2  12.99\n",
      "3        4  Thingamajig         8  15.99\n"
     ]
    }
   ],
   "source": [
    "# your code here\n",
    "import pandas as pd\n",
    "\n",
    "# Define the dictionary of product orders\n",
    "orders = {\n",
    "    \"OrderID\": [1, 2, 3, 4],\n",
    "    \"Product\": [\"Widget\", \"Gadget\", \"Doodad\", \"Thingamajig\"],\n",
    "    \"Quantity\": [5, 10, 2, 8],\n",
    "    \"Price\": [19.99, 24.99, 12.99, 15.99]\n",
    "}\n",
    "\n",
    "# Create a Pandas DataFrame\n",
    "orders_df = pd.DataFrame(orders)\n",
    "\n",
    "# Display the DataFrame\n",
    "print(orders_df)\n"
   ]
  },
  {
   "cell_type": "markdown",
   "metadata": {},
   "source": [
    "### 11. Calculate the total quantity ordered and revenue generated from these orders."
   ]
  },
  {
   "cell_type": "code",
   "execution_count": 18,
   "metadata": {},
   "outputs": [
    {
     "name": "stdout",
     "output_type": "stream",
     "text": [
      "Total Quantity Ordered: 25\n",
      "Total Revenue Generated: $503.75\n"
     ]
    }
   ],
   "source": [
    "# your code here\n",
    "import pandas as pd\n",
    "\n",
    "# Define the dictionary of product orders\n",
    "orders = {\n",
    "    \"OrderID\": [1, 2, 3, 4],\n",
    "    \"Product\": [\"Widget\", \"Gadget\", \"Doodad\", \"Thingamajig\"],\n",
    "    \"Quantity\": [5, 10, 2, 8],\n",
    "    \"Price\": [19.99, 24.99, 12.99, 15.99]\n",
    "}\n",
    "\n",
    "# Create a Pandas DataFrame\n",
    "orders_df = pd.DataFrame(orders)\n",
    "\n",
    "# Calculate total quantity ordered\n",
    "total_quantity = orders_df['Quantity'].sum()\n",
    "\n",
    "# Calculate revenue for each order and then the total revenue\n",
    "orders_df['Revenue'] = orders_df['Quantity'] * orders_df['Price']  # Create a new 'Revenue' column\n",
    "total_revenue = orders_df['Revenue'].sum()  # Sum of the 'Revenue' column\n",
    "\n",
    "# Display the results\n",
    "print(f\"Total Quantity Ordered: {total_quantity}\")\n",
    "print(f\"Total Revenue Generated: ${total_revenue:.2f}\")\n",
    "\n"
   ]
  },
  {
   "cell_type": "markdown",
   "metadata": {},
   "source": [
    "### 12. Obtain the prices of the most expensive and least expensive items ordered and print the difference."
   ]
  },
  {
   "cell_type": "code",
   "execution_count": 19,
   "metadata": {},
   "outputs": [
    {
     "name": "stdout",
     "output_type": "stream",
     "text": [
      "Most Expensive Item Price: $24.99\n",
      "Least Expensive Item Price: $12.99\n",
      "Difference in Price: $12.00\n"
     ]
    }
   ],
   "source": [
    "# your code here\n",
    "import pandas as pd\n",
    "\n",
    "# Define the dictionary of product orders\n",
    "orders = {\n",
    "    \"OrderID\": [1, 2, 3, 4],\n",
    "    \"Product\": [\"Widget\", \"Gadget\", \"Doodad\", \"Thingamajig\"],\n",
    "    \"Quantity\": [5, 10, 2, 8],\n",
    "    \"Price\": [19.99, 24.99, 12.99, 15.99]\n",
    "}\n",
    "\n",
    "# Create a Pandas DataFrame\n",
    "orders_df = pd.DataFrame(orders)\n",
    "\n",
    "# Obtain the prices of the most expensive and least expensive items ordered\n",
    "most_expensive_price = orders_df['Price'].max()\n",
    "least_expensive_price = orders_df['Price'].min()\n",
    "\n",
    "# Calculate the difference\n",
    "price_difference = most_expensive_price - least_expensive_price\n",
    "\n",
    "# Print the results\n",
    "print(f\"Most Expensive Item Price: ${most_expensive_price:.2f}\")\n",
    "print(f\"Least Expensive Item Price: ${least_expensive_price:.2f}\")\n",
    "print(f\"Difference in Price: ${price_difference:.2f}\")"
   ]
  },
  {
   "cell_type": "markdown",
   "metadata": {},
   "source": [
    "## Let's load another dataset for more exercisesº"
   ]
  },
  {
   "cell_type": "code",
   "execution_count": 20,
   "metadata": {},
   "outputs": [],
   "source": [
    "# Run this code:\n",
    "admissions = pd.read_csv('../Admission_Predict.csv')"
   ]
  },
  {
   "cell_type": "markdown",
   "metadata": {},
   "source": [
    "Let's evaluate the dataset by looking at the `head` function."
   ]
  },
  {
   "cell_type": "code",
   "execution_count": 21,
   "metadata": {},
   "outputs": [
    {
     "name": "stdout",
     "output_type": "stream",
     "text": [
      "   Serial No.  GRE Score  TOEFL Score  University Rating  SOP  LOR   CGPA  \\\n",
      "0           1        337          118                  4  4.5   4.5  9.65   \n",
      "1           2        316          104                  3  3.0   3.5  8.00   \n",
      "2           3        322          110                  3  3.5   2.5  8.67   \n",
      "3           4        314          103                  2  2.0   3.0  8.21   \n",
      "4           5        330          115                  5  4.5   3.0  9.34   \n",
      "\n",
      "   Research  Chance of Admit   \n",
      "0         1              0.92  \n",
      "1         1              0.72  \n",
      "2         1              0.80  \n",
      "3         0              0.65  \n",
      "4         1              0.90  \n"
     ]
    }
   ],
   "source": [
    "# your code here\n",
    "import pandas as pd\n",
    "\n",
    "# Load the dataset\n",
    "admissions = pd.read_csv('../Admission_Predict.csv')\n",
    "\n",
    "# Display the first few rows of the dataset\n",
    "print(admissions.head())"
   ]
  },
  {
   "cell_type": "markdown",
   "metadata": {},
   "source": [
    "### 1 - Before beginning to work with this dataset and evaluating graduate admissions data, we will verify that there is no missing data in the dataset. Do this in the cell below."
   ]
  },
  {
   "cell_type": "code",
   "execution_count": 22,
   "metadata": {},
   "outputs": [
    {
     "name": "stdout",
     "output_type": "stream",
     "text": [
      "Series([], dtype: int64)\n"
     ]
    }
   ],
   "source": [
    "# your code here\n",
    "import pandas as pd\n",
    "\n",
    "# Load the dataset\n",
    "admissions = pd.read_csv('../Admission_Predict.csv')\n",
    "\n",
    "# Check for missing data in the dataset\n",
    "missing_data = admissions.isnull().sum()\n",
    "\n",
    "# Display the count of missing values for each column\n",
    "print(missing_data[missing_data > 0])  # Only display columns with missing values"
   ]
  },
  {
   "cell_type": "markdown",
   "metadata": {},
   "source": [
    "###  2 -  Interestingly, there is a column that uniquely identifies the applicants. This column is the serial number column. Instead of having our own index, we should make this column our index. Do this in the cell below. Keep the column in the dataframe in addition to making it an index."
   ]
  },
  {
   "cell_type": "code",
   "execution_count": 25,
   "metadata": {},
   "outputs": [
    {
     "name": "stdout",
     "output_type": "stream",
     "text": [
      "First few rows of the dataset:\n",
      "   Serial No.  GRE Score  TOEFL Score  University Rating  SOP  LOR   CGPA  \\\n",
      "0           1        337          118                  4  4.5   4.5  9.65   \n",
      "1           2        316          104                  3  3.0   3.5  8.00   \n",
      "2           3        322          110                  3  3.5   2.5  8.67   \n",
      "3           4        314          103                  2  2.0   3.0  8.21   \n",
      "4           5        330          115                  5  4.5   3.0  9.34   \n",
      "\n",
      "   Research  Chance of Admit   \n",
      "0         1              0.92  \n",
      "1         1              0.72  \n",
      "2         1              0.80  \n",
      "3         0              0.65  \n",
      "4         1              0.90  \n",
      "Column names in the dataset:\n",
      "['Serial No.', 'GRE Score', 'TOEFL Score', 'University Rating', 'SOP', 'LOR ', 'CGPA', 'Research', 'Chance of Admit ']\n"
     ]
    }
   ],
   "source": [
    "\n",
    "import pandas as pd\n",
    "\n",
    "# Load the dataset\n",
    "admissions = pd.read_csv('../Admission_Predict.csv')\n",
    "\n",
    "# Print the first few rows of the Dataset\n",
    "print(\"First few rows of the dataset:\")\n",
    "print(admissions.head())\n",
    "\n",
    "# Print the column names to identify the exact name of the serial number column\n",
    "print(\"Column names in the dataset:\")\n",
    "print(admissions.columns.tolist())"
   ]
  },
  {
   "cell_type": "markdown",
   "metadata": {},
   "source": [
    "Turns out that `GRE Score` and `CGPA` also uniquely identify the data. Show this in the cell below."
   ]
  },
  {
   "cell_type": "markdown",
   "metadata": {},
   "source": [
    "### 3 - In this part of the lab, we would like to test complex conditions on the entire data set at once. Let's start by finding the number of rows where the CGPA is greater than 9 and the student has performed an investigation."
   ]
  },
  {
   "cell_type": "code",
   "execution_count": 27,
   "metadata": {
    "scrolled": true
   },
   "outputs": [
    {
     "name": "stdout",
     "output_type": "stream",
     "text": [
      "Column names in the dataset:\n",
      "['Serial No.', 'GRE Score', 'TOEFL Score', 'University Rating', 'SOP', 'LOR ', 'CGPA', 'Research', 'Chance of Admit ']\n",
      "Number of students with CGPA greater than 9 and who performed an investigation: 101\n"
     ]
    }
   ],
   "source": [
    "# your code here\n",
    "# Assuming you have already loaded your dataset into a DataFrame named 'admissions'.\n",
    "\n",
    "# Check the column names to confirm the correct names for CGPA and Research\n",
    "print(\"Column names in the dataset:\")\n",
    "print(admissions.columns.tolist())\n",
    "\n",
    "# Count the number of rows where CGPA is greater than 9 and Research is 1 (assuming 1 means performed research)\n",
    "count = admissions[(admissions['CGPA'] > 9) & (admissions['Research'] == 1)].shape[0]\n",
    "\n",
    "# Print the count\n",
    "print(f\"Number of students with CGPA greater than 9 and who performed an investigation: {count}\")"
   ]
  },
  {
   "cell_type": "markdown",
   "metadata": {},
   "source": [
    "### 4 - Now return all the rows where the CGPA is greater than 9 and the SOP score is less than 3.5. Find the mean chance of admit for these applicants."
   ]
  },
  {
   "cell_type": "code",
   "execution_count": 29,
   "metadata": {},
   "outputs": [
    {
     "name": "stdout",
     "output_type": "stream",
     "text": [
      "Mean chance of admit for applicants with CGPA > 9 and SOP < 3.5: 0.775\n"
     ]
    }
   ],
   "source": [
    "import pandas as pd\n",
    "\n",
    "# Sample DataFrame creation (replace this with your actual DataFrame)\n",
    "# admissions = pd.read_csv(\"your_file.csv\") # Uncomment this line to read from a CSV file\n",
    "\n",
    "# Example structure of the DataFrame for the sake of illustration\n",
    "data = {\n",
    "    'CGPA': [9.2, 9.5, 8.8, 9.0, 9.1],\n",
    "    'SOP': [3.2, 4.0, 3.4, 2.8, 3.0],\n",
    "    'Chance of Admit': [0.8, 0.9, 0.6, 0.7, 0.75]\n",
    "}\n",
    "admissions = pd.DataFrame(data)\n",
    "\n",
    "# Filter rows where CGPA > 9 and SOP < 3.5\n",
    "filtered_admissions = admissions[(admissions['CGPA'] > 9) & (admissions['SOP'] < 3.5)]\n",
    "\n",
    "# Calculate the mean chance of admit for these applicants\n",
    "if not filtered_admissions.empty:\n",
    "    mean_chance_of_admit = filtered_admissions['Chance of Admit'].mean()\n",
    "    print(f\"Mean chance of admit for applicants with CGPA > 9 and SOP < 3.5: {mean_chance_of_admit}\")\n",
    "else:\n",
    "    print(\"No applicants meet the criteria.\")"
   ]
  },
  {
   "cell_type": "markdown",
   "metadata": {},
   "source": [
    "\n"
   ]
  }
 ],
 "metadata": {
  "kernelspec": {
   "display_name": "Python 3",
   "language": "python",
   "name": "python3"
  },
  "language_info": {
   "codemirror_mode": {
    "name": "ipython",
    "version": 3
   },
   "file_extension": ".py",
   "mimetype": "text/x-python",
   "name": "python",
   "nbconvert_exporter": "python",
   "pygments_lexer": "ipython3",
   "version": "3.9.6"
  },
  "toc": {
   "base_numbering": "",
   "nav_menu": {},
   "number_sections": false,
   "sideBar": true,
   "skip_h1_title": false,
   "title_cell": "Table of Contents",
   "title_sidebar": "Contents",
   "toc_cell": false,
   "toc_position": {},
   "toc_section_display": true,
   "toc_window_display": true
  }
 },
 "nbformat": 4,
 "nbformat_minor": 2
}
